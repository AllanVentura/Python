{
 "cells": [
  {
   "cell_type": "markdown",
   "metadata": {},
   "source": [
    "# Identificando novos produtos - Hotmart\n",
    "<br>\n",
    "<div style=\"text-align: justify\">No marketing de afiliados é comum a necessidade da identificação de novos produtos para a criação de novas campanhas de marketing e para saciar as dores e desejos dos consumidores. Frente a isso o afiliado precisa otimizar sempre seu tempo em busca de novas oportunidades, e este código visa simplificar essa demanda.\n",
    "<br>\n",
    "<br>    \n",
    "    Para o funcionamento deste código algumas premissas foram adotadas:<br>\n",
    "        <span style=\"margin-left:2em\">- O programa não acessará a conta do usuário</span><br>\n",
    "        <span style=\"margin-left:2em\">- Deve-se utilizar a inspeção de elemento na página no conjunto dos produtos e copiar o trecho do HTML* e colar em scrap.txt</span><br>\n",
    "        <span style=\"margin-left:2em\">- Apenas na <b>primeira vez</b> da utilização do código é preciso ativar o banco de dados, caso ja tenha utilizado é <b>obrigatório</b> ignorar esse passo</span><br> \n",
    "<br>\n",
    "        * Recomenda-se a utilização em determinado nicho pois para carregar todos os produtos poderá sobrecarregar a memória do navegador</div>"
   ]
  },
  {
   "cell_type": "markdown",
   "metadata": {},
   "source": [
    "## Ativando Banco de dados"
   ]
  },
  {
   "cell_type": "code",
   "execution_count": null,
   "metadata": {},
   "outputs": [],
   "source": [
    "# Lendo arquivo atual\n",
    "from bs4 import BeautifulSoup\n",
    "a=[]\n",
    "data = open(\"scrap.txt\",\"r\",encoding='utf-8')\n",
    "soup = BeautifulSoup(data)\n",
    "for link in soup.findAll('strong'):\n",
    "        a.append(link.string.split())\n",
    "\n",
    "\n",
    "# Limpar Temperatura\n",
    "x=2\n",
    "while x <= len(a):\n",
    "    a.pop(x)\n",
    "    x=x+2\n",
    "\n",
    "    \n",
    "# Limpar Preços\n",
    "y=1\n",
    "while y <= len(a):\n",
    "    a.pop(y)\n",
    "    y=y+1\n",
    "    \n",
    "    \n",
    "# Arummando os nomes dos itens\n",
    "d=[]\n",
    "for n in range(len(a)):\n",
    "    aux =' '.join(a[n])\n",
    "    d.append(aux)\n",
    "    \n",
    "    \n",
    "# Atribuir para um Dataframe os elementos\n",
    "df_hoje = pd.DataFrame(d)\n",
    "\n",
    "\n",
    "# Atualizar o Banco de dados com os dados novos\n",
    "df_ontem = df_hoje.copy()\n",
    "df_ontem.to_csv('BancodeDados.csv',index= False, header = ['Produtos'])"
   ]
  },
  {
   "cell_type": "markdown",
   "metadata": {},
   "source": [
    "## Coleta e Tratamento dos dados\n",
    "<br>\n",
    "<div style=\"text-align: justify\">Essa etapa consiste em receber a lista de produtos salvos da última análise e a leitura do html copiado dos produtos disponiveis.</div>\n",
    "<br>\n",
    "<div style=\"text-align: justify\">Em seguida os novos dados serão tratados, onde as informações de preço e temperatura dos produtos serão removidas. Por fim o nome do produto receberá um tratamento para ser devidamente preenchido em um único vetor de forma correta</div>"
   ]
  },
  {
   "cell_type": "code",
   "execution_count": null,
   "metadata": {},
   "outputs": [],
   "source": [
    "# Lendo Banco de Dados\n",
    "import pandas as pd\n",
    "df_ontem = pd.read_csv('BancodeDados.csv')\n",
    "\n",
    "\n",
    "# Lendo arquivo atual\n",
    "from bs4 import BeautifulSoup\n",
    "a=[]\n",
    "data = open(\"scrap.txt\",\"r\",encoding='utf-8')\n",
    "soup = BeautifulSoup(data)\n",
    "for link in soup.findAll('strong'):\n",
    "        a.append(link.string.split())\n",
    "\n",
    "\n",
    "# Limpar Temperatura\n",
    "x=2\n",
    "while x <= len(a):\n",
    "    a.pop(x)\n",
    "    x=x+2\n",
    "\n",
    "    \n",
    "# Limpar Preços\n",
    "y=1\n",
    "while y <= len(a):\n",
    "    a.pop(y)\n",
    "    y=y+1\n",
    "    \n",
    "    \n",
    "# Arummando os nomes dos itens\n",
    "d=[]\n",
    "for n in range(len(a)):\n",
    "    aux =' '.join(a[n])\n",
    "    d.append(aux)\n",
    "    \n",
    "    \n",
    "# Atribuir para um Dataframe os elementos\n",
    "df_hoje = pd.DataFrame(d)\n",
    "\n",
    "\n",
    "# Quantidade de Itens\n",
    "len(a)"
   ]
  },
  {
   "cell_type": "markdown",
   "metadata": {},
   "source": [
    "## Verificando a existência de novos produtos\n",
    "<br>\n",
    "<div style=\"text-align: justify\">Nessa etapa o código percorre para cada elemento vindo do html se existe alguma correspondência exata nos dados existente no banco de dados criado anteriormente, caso não exista esse produto será anotado em uma nova lista a qual poderá ser visualizada tanto no código quanto em um arquivo de CSV na pasta chamado NovosProdutos.csv</div>"
   ]
  },
  {
   "cell_type": "code",
   "execution_count": null,
   "metadata": {},
   "outputs": [],
   "source": [
    "# Identificando os novos produtos\n",
    "NewItem=[]\n",
    "for n in range(len(df_hoje)):\n",
    "    count = 0\n",
    "    for m in range(len(df_ontem)):\n",
    "        if df_hoje[0][n] == df_ontem['Produtos'][m]:\n",
    "            count = count + 1\n",
    "    if count == 0:\n",
    "        NewItem.append(df_hoje[0][n])\n",
    "        \n",
    "\n",
    "# Salvando txt dos novos produtos\n",
    "if len(NewItem) > 0: \n",
    "    df_NewItem = pd.DataFrame(NewItem)\n",
    "    df_NewItem.to_csv('NovosProdutos.csv', index = False, header = [\"Produtos\"])\n",
    "    print(\"Novos itens: \", len(NewItem))\n",
    "else:\n",
    "    NewItem=['']\n",
    "    df_NewItem = pd.DataFrame(NewItem)\n",
    "    df_NewItem.to_csv('NovosProdutos.csv', index = False, header = [\"Produtos\"])\n",
    "    print (\"Nenhum Produto Novo\")\n",
    "#text_file = open(\"NovosProdutos.txt\", \"w\")\n",
    "#text_file.write(NewItem)\n",
    "#text_file.close()\n"
   ]
  },
  {
   "cell_type": "code",
   "execution_count": null,
   "metadata": {
    "scrolled": true
   },
   "outputs": [],
   "source": [
    "# Lista de n produtos\n",
    "n = 50\n",
    "df_NewItem.rename(columns={0:'Produtos'}, inplace = True)\n",
    "df_NewItem.head(n)"
   ]
  },
  {
   "cell_type": "markdown",
   "metadata": {},
   "source": [
    "## Atualizando Banco de dados\n",
    "<br>\n",
    "<div style=\"text-align: justify\">Após a verificação dos novos produtos, deve-se atualizar os dados presentes no banco de dados com a lista dos novos produtos prospectados. Para isso recomenda-se essa ação somente quando foi finalizada toda a análise ou coleta de informação necessária, pois os valores serão sobrescritos para utilização na próxima ocasião de uso deste código</div>"
   ]
  },
  {
   "cell_type": "code",
   "execution_count": null,
   "metadata": {},
   "outputs": [],
   "source": [
    "# Atualizar o Banco de dados com os dados novos\n",
    "# APENAS SE NECESSÁRIO, OU SEJA, UMA VEZ NO DIA\n",
    "df_ontem = df_hoje.copy()\n",
    "df_ontem.to_csv('BancodeDados.csv', index = False, header = ['Produtos'])"
   ]
  }
 ],
 "metadata": {
  "kernelspec": {
   "display_name": "Python 3",
   "language": "python",
   "name": "python3"
  },
  "language_info": {
   "codemirror_mode": {
    "name": "ipython",
    "version": 3
   },
   "file_extension": ".py",
   "mimetype": "text/x-python",
   "name": "python",
   "nbconvert_exporter": "python",
   "pygments_lexer": "ipython3",
   "version": "3.7.9"
  }
 },
 "nbformat": 4,
 "nbformat_minor": 4
}
