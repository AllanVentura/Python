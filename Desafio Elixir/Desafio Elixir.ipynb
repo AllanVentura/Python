{
 "cells": [
  {
   "cell_type": "markdown",
   "metadata": {},
   "source": [
    "# DESAFIO ELIXIR\n",
    "\n",
    "Imagine uma lista de compras. Ela possui:\n",
    "\n",
    "- Itens\n",
    "- Quantidade de cada item\n",
    "- Preço por unidade/peso/pacote de cada item\n",
    "\n",
    "Desenvolva uma função (ou método) que irá receber uma lista de compras (como a detalhada acima) e uma lista de e-mails. Aqui, cada e-mail representa uma pessoa.\n",
    "\n",
    "A função deve:\n",
    "\n",
    "- Calcular a soma dos valores, ou seja, multiplicar o preço de cada item por sua quantidade e somar todos os itens\n",
    "- Dividir o valor de forma igual entre a quantidade de e-mails\n",
    "- Retornar um mapa/dicionário onde a chave será o e-mail e o valor será quanto ele deve pagar nessa conta\n",
    "\n",
    "⚠️ IMPORTANTE\n",
    "\n",
    "- Quando fizer a divisão, é importante que não falte nenhum centavo! Cuidado quando tiver, por exemplo, um valor total de R$ 1,00 para ser dividido entre 3 e-mails. Isso daria uma dízima infinita. No entanto, o correto aqui é que duas pessoas fiquem com o valor 0,33 e a terceira fique com 0,34.\n",
    "\n",
    "\n",
    "- Para facilitar e como boa prática, não trabalhe com valores com decimais. Ou seja, ponto flutuante ou float. Use inteiros para representar os valores! Como a menor unidade na nossa moeda é o centavo, use valores inteiros em centavos. Assim, um real será representado por 100 (cem centavos é igual a um real).\n",
    "    - Deixe documentado como você \"testa\" a solução. Por exemplo: \"eu coloco o arquivo numa pasta/desafio e executo javac Desafio.java e depois java Desafio\". Testes automatizados são bem vindos, mas não são necessários.\n",
    "    - Para as linguagens que possuem um REPL (read-eval-print-loop... uma espécie de \"shell\" da linguagem), você pode simplesmente dizer que executa o módulo/classe de dentro dele."
   ]
  },
  {
   "cell_type": "markdown",
   "metadata": {},
   "source": [
    "## GERANDO OS DADOS\n",
    "\n",
    "Essa etapa é opcional, onde pode ser gerado apenas uma lista inicial para as compras e os e-mails. Destaca-se:\n",
    "\n",
    "- O código a seguir gera elementos aleatórios para a lista de compras e de e-mails, podendo assim ocorrer elementos repetidos mas sem prejudicar a dinâmica do desafio.\n",
    "\n",
    "- Também deve-se destacar que a geração é de apenas uma lista (Compras_0 e E-mails_0) e com o formato de saída em excel, visto que esse tipo de arquivo é comum no dia a dia das organizações.\n",
    "\n",
    "- A saida do arquivo ficará no próprio diretório do código.\n",
    "\n",
    "- Por fim, essa etapa pode gerar um estresse ao código por apresentar a possibilidade de geração de um elevado número de elementos para as listas."
   ]
  },
  {
   "cell_type": "markdown",
   "metadata": {},
   "source": [
    "### Lista de Compras"
   ]
  },
  {
   "cell_type": "code",
   "execution_count": null,
   "metadata": {},
   "outputs": [],
   "source": [
    "import string \n",
    "import random\n",
    "import pandas as pd\n",
    "\n",
    "# Definindo um dicionário que será responsável a atribuir um determinado preço e quantidade a um determinado produto\n",
    "items = {}\n",
    "\n",
    "# Quantidade de itens gerados (esse número pode ser menor por existir valores repetidos e o número limitado de combinações disponiveis para geração dos itens)\n",
    "itemsNum = 1000000\n",
    "\n",
    "# Preenchimento de forma aleatória dos itens, onde k significa a quantidade de caracteres\n",
    "for i in range(itemsNum):\n",
    "    itemsValueRand = ''.join(random.choices(string.digits, k = 5))\n",
    "    itemsAmountRand = ''.join(random.choices(string.digits, k = 2))\n",
    "    itemsNameRand = ''.join(random.choices(string.ascii_lowercase, k = 3))\n",
    "    items[itemsNameRand] = itemsAmountRand,itemsValueRand\n",
    "\n",
    "# Organizando os dados gerados\n",
    "df_items = pd.DataFrame(items, index = ['Quantidade','Preço']).transpose()\n",
    "df_items.reset_index(level=0, inplace=True)\n",
    "df_items.rename(columns={\"index\": \"Itens\"}, inplace=True)\n",
    "\n",
    "# Exportando os dados gerados\n",
    "df_items.to_excel(\"Compras_0.xlsx\", index = False)\n"
   ]
  },
  {
   "cell_type": "markdown",
   "metadata": {},
   "source": [
    "### Lista de E-mails"
   ]
  },
  {
   "cell_type": "code",
   "execution_count": null,
   "metadata": {},
   "outputs": [],
   "source": [
    "import string \n",
    "import random\n",
    "import pandas as pd\n",
    "\n",
    "# Quantidade de emails gerados (esse número pode ser menor por existir um número limitado de combinações disponiveis para geração dos itens)\n",
    "emailName = []\n",
    "emailNum = 50000\n",
    "\n",
    "# Preenchimento de forma aleatória dos emails, onde k significa a quantidade de caracteres\n",
    "for i in range(emailNum):\n",
    "    emailName.append(''.join(random.choices(string.ascii_lowercase, k = 4))+'@stone.com') \n",
    "\n",
    "# Consolidando os emails gerados\n",
    "df_email = pd.DataFrame(emailName, columns = ['E-mail'])\n",
    "\n",
    "# Exportando os dados gerados\n",
    "df_email.to_excel(\"E-mails_0.xlsx\", index = False)\n"
   ]
  },
  {
   "cell_type": "markdown",
   "metadata": {},
   "source": [
    "## IMPORTANDO OS DADOS\n",
    "\n",
    "Para adquirir os dados para a resolução do problema deve-se esclarecer que:\n",
    " - Na própria pasta do código existirá n listas de compras e n listas de emails.\n",
    " - Utilizando a premissa que existirá uma regra de nomenclatura das lista (Compras_n e E-mails_n, onde n começa a partir de 0).\n",
    " - O preenchimento de diferentes listas foi adotado como preenchimento de diferentes planilhas de Excel, visto que é uma ferramenta amplamente utilizada no ambiente corporativo."
   ]
  },
  {
   "cell_type": "markdown",
   "metadata": {},
   "source": [
    "### Lista de Compras"
   ]
  },
  {
   "cell_type": "code",
   "execution_count": null,
   "metadata": {},
   "outputs": [],
   "source": [
    "import pandas as pd\n",
    "\n",
    "# Insira a quantidade de listas de compras do supervisório\n",
    "valueShoppingList = 2\n",
    "\n",
    "# Definindo a lista de compras inicial\n",
    "shopping = pd.read_excel(\"Compras_0.xlsx\")\n",
    "\n",
    "# Agrupando todas as listas disponiveis em apenas uma\n",
    "for ShoppingList in range(valueShoppingList-1):\n",
    "    file = 'Compras_' + str(ShoppingList+1) + '.xlsx'\n",
    "    shopping = pd.concat([shopping,pd.read_excel(file)],ignore_index=True)\n",
    "\n",
    "# Criando o preço total de cada item\n",
    "shopping['Total'] = shopping['Quantidade']*shopping['Preço']\n",
    "\n",
    "# Calculando o valor total de todas as listas    \n",
    "totalCost = shopping.sum().Total\n"
   ]
  },
  {
   "cell_type": "markdown",
   "metadata": {},
   "source": [
    "### Lista de e-mails"
   ]
  },
  {
   "cell_type": "code",
   "execution_count": null,
   "metadata": {},
   "outputs": [],
   "source": [
    "# Insira a quantidade de listas de e-mails do supervisório\n",
    "valueEmailList = 2\n",
    "\n",
    "# Definindo a lista de e-mails inicial\n",
    "email = pd.read_excel(\"E-mails_0.xlsx\")\n",
    "\n",
    "# Agrupando todas as listas disponiveis em apenas uma\n",
    "for EmailList in range(valueEmailList-1):\n",
    "    file = 'E-mails_' + str(EmailList+1) + '.xlsx'\n",
    "    email = pd.concat([email,pd.read_excel(file)],ignore_index=True)\n",
    "\n",
    "# Definindo a quantidade de e-mails/pessoas\n",
    "countEmail = email.nunique()\n",
    "\n",
    "# Definindo os emails únicos\n",
    "uniqueEmail = email['E-mail'].unique()\n"
   ]
  },
  {
   "cell_type": "markdown",
   "metadata": {},
   "source": [
    "### Desenvolvimento do dicionário"
   ]
  },
  {
   "cell_type": "code",
   "execution_count": null,
   "metadata": {},
   "outputs": [],
   "source": [
    "# Declaração do dicionário com os dados finais\n",
    "bill = {}\n",
    "\n",
    "# Condição para o cenário onde não exista nenhum e-mail nas listas disponibilizadas\n",
    "if int(countEmail) == 0:\n",
    "    countEmail = 1\n",
    "    uniqueEmail = []\n",
    "    uniqueEmail.append(\"Nenhum e-mail disponível\")\n",
    "\n",
    "# Calculando qual será o valor que cada e-mail receberá\n",
    "CostPerEmail = int (totalCost/countEmail)\n",
    "\n",
    "# Calculando quanto irá sobrar para ter uma divisão o mais igualitária dos valores\n",
    "restPerEmail = int (totalCost%countEmail)\n",
    "\n",
    "# Atribuindo para cada e-mail o valor igual a todos\n",
    "for a in uniqueEmail:\n",
    "    bill [a] = CostPerEmail\n",
    "\n",
    "# Caso a divisão não seja igual a todos, será acrescido 1 unidade a todos até que a conta feche, a começar pelo \n",
    "# primeiro e-mail da lista    \n",
    "if restPerEmail > 0:\n",
    "    for a in uniqueEmail:\n",
    "        bill [a] = bill [a] + 1\n",
    "        restPerEmail = restPerEmail - 1\n",
    "        if restPerEmail == 0:\n",
    "            break"
   ]
  },
  {
   "cell_type": "markdown",
   "metadata": {},
   "source": [
    "## Conclusão"
   ]
  },
  {
   "cell_type": "code",
   "execution_count": null,
   "metadata": {},
   "outputs": [],
   "source": [
    "print('A soma dos valores é ' + str(totalCost) )"
   ]
  },
  {
   "cell_type": "code",
   "execution_count": null,
   "metadata": {},
   "outputs": [],
   "source": [
    "print('O valor de forma igual entre a quantidade de e-mails é ' + str(CostPerEmail))"
   ]
  },
  {
   "cell_type": "code",
   "execution_count": null,
   "metadata": {},
   "outputs": [],
   "source": [
    "print('O banco de dados final é: \\n' + str(bill))"
   ]
  }
 ],
 "metadata": {
  "kernelspec": {
   "display_name": "Python 3",
   "language": "python",
   "name": "python3"
  },
  "language_info": {
   "codemirror_mode": {
    "name": "ipython",
    "version": 3
   },
   "file_extension": ".py",
   "mimetype": "text/x-python",
   "name": "python",
   "nbconvert_exporter": "python",
   "pygments_lexer": "ipython3",
   "version": "3.7.9"
  }
 },
 "nbformat": 4,
 "nbformat_minor": 4
}
